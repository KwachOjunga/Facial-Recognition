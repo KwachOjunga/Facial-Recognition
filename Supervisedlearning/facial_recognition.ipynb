{
 "cells": [
  {
   "cell_type": "code",
   "execution_count": 2,
   "id": "43900e9d",
   "metadata": {},
   "outputs": [],
   "source": [
    "import keras\n",
    "from keras.models import Sequential\n",
    "from keras.layers import Conv2D\n",
    "from keras.layers import Flatten\n",
    "from keras.layers import MaxPool2D\n",
    "from keras.layers import Dense\n",
    "from keras.utils import image_dataset_from_directory\n",
    "import os"
   ]
  },
  {
   "cell_type": "code",
   "execution_count": 3,
   "id": "b1e2c62c",
   "metadata": {},
   "outputs": [],
   "source": [
    "DataDir = 'Data/facial_recognition'\n",
    "train_ds = os.path.join(DataDir,'train')\n",
    "valid_ds = os.path.join(DataDir,'valid')\n",
    "test_ds = os.path.join(DataDir,'test')"
   ]
  },
  {
   "cell_type": "code",
   "execution_count": 36,
   "id": "adcce664",
   "metadata": {},
   "outputs": [],
   "source": [
    "image_dataset_from_directory?"
   ]
  },
  {
   "cell_type": "code",
   "execution_count": 4,
   "id": "dcaa1b77",
   "metadata": {},
   "outputs": [
    {
     "name": "stdout",
     "output_type": "stream",
     "text": [
      "Found 105 files belonging to 2 classes.\n"
     ]
    }
   ],
   "source": [
    "traindl = image_dataset_from_directory(train_ds,seed=123)"
   ]
  },
  {
   "cell_type": "code",
   "execution_count": 5,
   "id": "0bfc2e0b",
   "metadata": {},
   "outputs": [
    {
     "data": {
      "text/plain": [
       "['with_mask', 'without_mask']"
      ]
     },
     "execution_count": 5,
     "metadata": {},
     "output_type": "execute_result"
    }
   ],
   "source": [
    "traindl.class_names"
   ]
  },
  {
   "cell_type": "code",
   "execution_count": 45,
   "id": "5660d51b",
   "metadata": {},
   "outputs": [
    {
     "name": "stdout",
     "output_type": "stream",
     "text": [
      "Found 52 files belonging to 1 classes.\n"
     ]
    }
   ],
   "source": [
    "testdl = image_dataset_from_directory(test_ds,seed=123,labels=None)"
   ]
  },
  {
   "cell_type": "code",
   "execution_count": 74,
   "id": "984aa4fe",
   "metadata": {},
   "outputs": [],
   "source": [
    "model = Sequential()\n",
    "model.add(Conv2D(32,(3,3),input_shape=(256,256,3), activation='relu'))\n",
    "model.add(MaxPool2D())\n",
    "model.add(Conv2D(32,(3,3), activation='relu'))\n",
    "model.add(MaxPool2D())\n",
    "model.add(Conv2D(32,(3,3), activation='relu'))\n",
    "model.add(MaxPool2D())\n",
    "model.add(Flatten())\n",
    "model.add(Dense(512,activation='relu'))\n",
    "model.add(Dense(1,activation='relu'))\n",
    "model.compile(optimizer='adam',loss='binary_crossentropy',metrics='accuracy')"
   ]
  },
  {
   "cell_type": "code",
   "execution_count": 64,
   "id": "f8e707f7",
   "metadata": {},
   "outputs": [
    {
     "name": "stdout",
     "output_type": "stream",
     "text": [
      "Found 52 files belonging to 2 classes.\n"
     ]
    }
   ],
   "source": [
    "validdl = image_dataset_from_directory(valid_ds) "
   ]
  },
  {
   "cell_type": "code",
   "execution_count": 72,
   "id": "8efd8a5b",
   "metadata": {},
   "outputs": [
    {
     "name": "stdout",
     "output_type": "stream",
     "text": [
      "Epoch 1/40\n",
      "4/4 [==============================] - 4s 922ms/step - loss: 7.1678 - accuracy: 0.5203\n",
      "Epoch 2/40\n",
      "4/4 [==============================] - 4s 923ms/step - loss: 7.1591 - accuracy: 0.5210\n",
      "Epoch 3/40\n",
      "4/4 [==============================] - 4s 921ms/step - loss: 7.1584 - accuracy: 0.5208\n",
      "Epoch 4/40\n",
      "4/4 [==============================] - 4s 919ms/step - loss: 7.1659 - accuracy: 0.5224\n",
      "Epoch 5/40\n",
      "4/4 [==============================] - 4s 922ms/step - loss: 7.1796 - accuracy: 0.5223\n",
      "Epoch 6/40\n",
      "4/4 [==============================] - 4s 927ms/step - loss: 7.1997 - accuracy: 0.5211\n",
      "Epoch 7/40\n",
      "4/4 [==============================] - 4s 929ms/step - loss: 7.1811 - accuracy: 0.5233\n",
      "Epoch 8/40\n",
      "4/4 [==============================] - 4s 925ms/step - loss: 7.1913 - accuracy: 0.5221\n",
      "Epoch 9/40\n",
      "4/4 [==============================] - 4s 927ms/step - loss: 7.1840 - accuracy: 0.5227\n",
      "Epoch 10/40\n",
      "4/4 [==============================] - 4s 928ms/step - loss: 7.1794 - accuracy: 0.5228\n",
      "Epoch 11/40\n",
      "4/4 [==============================] - 4s 958ms/step - loss: 7.1887 - accuracy: 0.5215\n",
      "Epoch 12/40\n",
      "4/4 [==============================] - 4s 933ms/step - loss: 7.1684 - accuracy: 0.5231\n",
      "Epoch 13/40\n",
      "4/4 [==============================] - 4s 925ms/step - loss: 7.1737 - accuracy: 0.5218\n",
      "Epoch 14/40\n",
      "4/4 [==============================] - 4s 928ms/step - loss: 7.1745 - accuracy: 0.5219\n",
      "Epoch 15/40\n",
      "4/4 [==============================] - 4s 940ms/step - loss: 7.1649 - accuracy: 0.5227\n",
      "Epoch 16/40\n",
      "4/4 [==============================] - 6s 1s/step - loss: 7.1668 - accuracy: 0.5228\n",
      "Epoch 17/40\n",
      "4/4 [==============================] - 4s 889ms/step - loss: 7.1754 - accuracy: 0.5226\n",
      "Epoch 18/40\n",
      "4/4 [==============================] - 5s 1s/step - loss: 7.1666 - accuracy: 0.5229\n",
      "Epoch 19/40\n",
      "4/4 [==============================] - 5s 1s/step - loss: 7.1548 - accuracy: 0.5221\n",
      "Epoch 20/40\n",
      "4/4 [==============================] - 5s 1s/step - loss: 7.1759 - accuracy: 0.5205\n",
      "Epoch 21/40\n",
      "4/4 [==============================] - 5s 1s/step - loss: 7.2084 - accuracy: 0.5173\n",
      "Epoch 22/40\n",
      "4/4 [==============================] - 4s 897ms/step - loss: 7.1965 - accuracy: 0.5189\n",
      "Epoch 23/40\n",
      "4/4 [==============================] - 4s 986ms/step - loss: 7.2193 - accuracy: 0.5174\n",
      "Epoch 24/40\n",
      "4/4 [==============================] - 5s 1s/step - loss: 7.1680 - accuracy: 0.5229\n",
      "Epoch 25/40\n",
      "4/4 [==============================] - 4s 994ms/step - loss: 7.2167 - accuracy: 0.5200\n",
      "Epoch 26/40\n",
      "4/4 [==============================] - 5s 972ms/step - loss: 7.1891 - accuracy: 0.5222\n",
      "Epoch 27/40\n",
      "4/4 [==============================] - 4s 955ms/step - loss: 7.2023 - accuracy: 0.5206\n",
      "Epoch 28/40\n",
      "4/4 [==============================] - 4s 947ms/step - loss: 7.1567 - accuracy: 0.5228\n",
      "Epoch 29/40\n",
      "4/4 [==============================] - 4s 980ms/step - loss: 7.1643 - accuracy: 0.5236\n",
      "Epoch 30/40\n",
      "4/4 [==============================] - 4s 960ms/step - loss: 7.1543 - accuracy: 0.5238\n",
      "Epoch 31/40\n",
      "4/4 [==============================] - 4s 944ms/step - loss: 7.1435 - accuracy: 0.5237\n",
      "Epoch 32/40\n",
      "4/4 [==============================] - 4s 963ms/step - loss: 7.1325 - accuracy: 0.5238\n",
      "Epoch 33/40\n",
      "4/4 [==============================] - 4s 969ms/step - loss: 7.1182 - accuracy: 0.5235\n",
      "Epoch 34/40\n",
      "4/4 [==============================] - 4s 923ms/step - loss: 7.1030 - accuracy: 0.5241\n",
      "Epoch 35/40\n",
      "4/4 [==============================] - 4s 903ms/step - loss: 7.1560 - accuracy: 0.5215\n",
      "Epoch 36/40\n",
      "4/4 [==============================] - 4s 901ms/step - loss: 7.1636 - accuracy: 0.5216\n",
      "Epoch 37/40\n",
      "4/4 [==============================] - 4s 939ms/step - loss: 7.1499 - accuracy: 0.5225\n",
      "Epoch 38/40\n",
      "4/4 [==============================] - 4s 894ms/step - loss: 7.1451 - accuracy: 0.5227\n",
      "Epoch 39/40\n",
      "4/4 [==============================] - 4s 921ms/step - loss: 7.1204 - accuracy: 0.5241\n",
      "Epoch 40/40\n",
      "4/4 [==============================] - 4s 910ms/step - loss: 7.1217 - accuracy: 0.5237\n",
      "CPU times: total: 8min 25s\n",
      "Wall time: 2min 55s\n"
     ]
    },
    {
     "data": {
      "text/plain": [
       "<keras.callbacks.History at 0x2e67bf6fcd0>"
      ]
     },
     "execution_count": 72,
     "metadata": {},
     "output_type": "execute_result"
    }
   ],
   "source": [
    "%time model.fit(traindl, epochs=40,batch_size=32)"
   ]
  },
  {
   "cell_type": "markdown",
   "id": "bfb1397b",
   "metadata": {},
   "source": [
    "Training without the flattening layer. 80 epochs and an average accuracy of 52%"
   ]
  },
  {
   "cell_type": "code",
   "execution_count": 75,
   "id": "a32c2588",
   "metadata": {},
   "outputs": [
    {
     "name": "stdout",
     "output_type": "stream",
     "text": [
      "Epoch 1/40\n",
      "4/4 [==============================] - 6s 910ms/step - loss: 8.2166 - accuracy: 0.4667\n",
      "Epoch 2/40\n",
      "4/4 [==============================] - 4s 904ms/step - loss: 8.2166 - accuracy: 0.4667\n",
      "Epoch 3/40\n",
      "4/4 [==============================] - 4s 912ms/step - loss: 8.2166 - accuracy: 0.4667\n",
      "Epoch 4/40\n",
      "4/4 [==============================] - 4s 919ms/step - loss: 8.2166 - accuracy: 0.4667\n",
      "Epoch 5/40\n",
      "4/4 [==============================] - 4s 894ms/step - loss: 8.2166 - accuracy: 0.4667\n",
      "Epoch 6/40\n",
      "4/4 [==============================] - 4s 914ms/step - loss: 8.2166 - accuracy: 0.4667\n",
      "Epoch 7/40\n",
      "4/4 [==============================] - 4s 946ms/step - loss: 8.2166 - accuracy: 0.4667\n",
      "Epoch 8/40\n",
      "4/4 [==============================] - 4s 921ms/step - loss: 8.2166 - accuracy: 0.4667\n",
      "Epoch 9/40\n",
      "4/4 [==============================] - 4s 922ms/step - loss: 8.2166 - accuracy: 0.4667\n",
      "Epoch 10/40\n",
      "4/4 [==============================] - 4s 915ms/step - loss: 8.2166 - accuracy: 0.4667\n",
      "Epoch 11/40\n",
      "4/4 [==============================] - 4s 912ms/step - loss: 8.2166 - accuracy: 0.4667\n",
      "Epoch 12/40\n",
      "4/4 [==============================] - 4s 902ms/step - loss: 8.2166 - accuracy: 0.4667\n",
      "Epoch 13/40\n",
      "4/4 [==============================] - 4s 923ms/step - loss: 8.2166 - accuracy: 0.4667\n",
      "Epoch 14/40\n",
      "4/4 [==============================] - 4s 906ms/step - loss: 8.2166 - accuracy: 0.4667\n",
      "Epoch 15/40\n",
      "4/4 [==============================] - 4s 919ms/step - loss: 8.2166 - accuracy: 0.4667\n",
      "Epoch 16/40\n",
      "4/4 [==============================] - 4s 913ms/step - loss: 8.2166 - accuracy: 0.4667\n",
      "Epoch 17/40\n",
      "4/4 [==============================] - 4s 919ms/step - loss: 8.2166 - accuracy: 0.4667\n",
      "Epoch 18/40\n",
      "4/4 [==============================] - 4s 925ms/step - loss: 8.2166 - accuracy: 0.4667\n",
      "Epoch 19/40\n",
      "4/4 [==============================] - 4s 919ms/step - loss: 8.2166 - accuracy: 0.4667\n",
      "Epoch 20/40\n",
      "4/4 [==============================] - 4s 926ms/step - loss: 8.2166 - accuracy: 0.4667\n",
      "Epoch 21/40\n",
      "4/4 [==============================] - 4s 910ms/step - loss: 8.2166 - accuracy: 0.4667\n",
      "Epoch 22/40\n",
      "4/4 [==============================] - 4s 917ms/step - loss: 8.2166 - accuracy: 0.4667\n",
      "Epoch 23/40\n",
      "4/4 [==============================] - 4s 919ms/step - loss: 8.2166 - accuracy: 0.4667\n",
      "Epoch 24/40\n",
      "4/4 [==============================] - 5s 1s/step - loss: 8.2166 - accuracy: 0.4667\n",
      "Epoch 25/40\n",
      "4/4 [==============================] - 4s 968ms/step - loss: 8.2166 - accuracy: 0.4667\n",
      "Epoch 26/40\n",
      "4/4 [==============================] - 5s 982ms/step - loss: 8.2166 - accuracy: 0.4667\n",
      "Epoch 27/40\n",
      "4/4 [==============================] - 4s 953ms/step - loss: 8.2166 - accuracy: 0.4667\n",
      "Epoch 28/40\n",
      "4/4 [==============================] - 4s 894ms/step - loss: 8.2166 - accuracy: 0.4667\n",
      "Epoch 29/40\n",
      "4/4 [==============================] - 4s 921ms/step - loss: 8.2166 - accuracy: 0.4667\n",
      "Epoch 30/40\n",
      "4/4 [==============================] - 4s 920ms/step - loss: 8.2166 - accuracy: 0.4667\n",
      "Epoch 31/40\n",
      "4/4 [==============================] - 4s 922ms/step - loss: 8.2166 - accuracy: 0.4667\n",
      "Epoch 32/40\n",
      "4/4 [==============================] - 4s 921ms/step - loss: 8.2166 - accuracy: 0.4667\n",
      "Epoch 33/40\n",
      "4/4 [==============================] - 4s 911ms/step - loss: 8.2166 - accuracy: 0.4667\n",
      "Epoch 34/40\n",
      "4/4 [==============================] - 4s 915ms/step - loss: 8.2166 - accuracy: 0.4667\n",
      "Epoch 35/40\n",
      "4/4 [==============================] - 4s 929ms/step - loss: 8.2166 - accuracy: 0.4667\n",
      "Epoch 36/40\n",
      "4/4 [==============================] - 4s 918ms/step - loss: 8.2166 - accuracy: 0.4667\n",
      "Epoch 37/40\n",
      "4/4 [==============================] - 4s 927ms/step - loss: 8.2166 - accuracy: 0.4667\n",
      "Epoch 38/40\n",
      "4/4 [==============================] - 4s 922ms/step - loss: 8.2166 - accuracy: 0.4667\n",
      "Epoch 39/40\n",
      "4/4 [==============================] - 4s 909ms/step - loss: 8.2166 - accuracy: 0.4667\n",
      "Epoch 40/40\n",
      "4/4 [==============================] - 4s 909ms/step - loss: 8.2166 - accuracy: 0.4667\n",
      "CPU times: total: 8min 40s\n",
      "Wall time: 2min 49s\n"
     ]
    },
    {
     "data": {
      "text/plain": [
       "<keras.callbacks.History at 0x2e67bf6e6e0>"
      ]
     },
     "execution_count": 75,
     "metadata": {},
     "output_type": "execute_result"
    }
   ],
   "source": [
    "#retrying with the flatten layer in place\n",
    "%time model.fit(traindl, epochs=40,batch_size=32)"
   ]
  },
  {
   "cell_type": "code",
   "execution_count": 6,
   "id": "252760be",
   "metadata": {},
   "outputs": [],
   "source": [
    "classifier = Sequential()\n",
    "classifier.add(Conv2D(32,(3,3),input_shape=(256,256,3), activation='relu'))\n",
    "classifier.add(MaxPool2D())\n",
    "classifier.add(Conv2D(32,(3,3), activation='relu'))\n",
    "classifier.add(MaxPool2D())\n",
    "classifier.add(Flatten())\n",
    "classifier.add(Dense(512,activation='relu'))\n",
    "classifier.add(Dense(1,activation='sigmoid'))\n",
    "classifier.compile(optimizer='adam',loss='binary_crossentropy',metrics='accuracy')"
   ]
  },
  {
   "cell_type": "code",
   "execution_count": 7,
   "id": "b8b996ef",
   "metadata": {},
   "outputs": [
    {
     "name": "stdout",
     "output_type": "stream",
     "text": [
      "Epoch 1/40\n",
      "4/4 [==============================] - 7s 1s/step - loss: 4178.5791 - accuracy: 0.4571\n",
      "Epoch 2/40\n",
      "4/4 [==============================] - 5s 1s/step - loss: 936.4796 - accuracy: 0.5238\n",
      "Epoch 3/40\n",
      "4/4 [==============================] - 5s 1s/step - loss: 195.1361 - accuracy: 0.5333\n",
      "Epoch 4/40\n",
      "4/4 [==============================] - 5s 1s/step - loss: 26.5432 - accuracy: 0.6286\n",
      "Epoch 5/40\n",
      "4/4 [==============================] - 5s 1s/step - loss: 2.0611 - accuracy: 0.7714\n",
      "Epoch 6/40\n",
      "4/4 [==============================] - 5s 1s/step - loss: 0.8913 - accuracy: 0.8095\n",
      "Epoch 7/40\n",
      "4/4 [==============================] - 5s 1s/step - loss: 0.6305 - accuracy: 0.9714\n",
      "Epoch 8/40\n",
      "4/4 [==============================] - 5s 1s/step - loss: 0.1904 - accuracy: 0.9619\n",
      "Epoch 9/40\n",
      "4/4 [==============================] - 5s 1s/step - loss: 0.1171 - accuracy: 0.9810\n",
      "Epoch 10/40\n",
      "4/4 [==============================] - 5s 1s/step - loss: 0.0287 - accuracy: 0.9810\n",
      "Epoch 11/40\n",
      "4/4 [==============================] - 5s 1s/step - loss: 0.0168 - accuracy: 0.9905\n",
      "Epoch 12/40\n",
      "4/4 [==============================] - 5s 1s/step - loss: 0.0102 - accuracy: 1.0000\n",
      "Epoch 13/40\n",
      "4/4 [==============================] - 5s 1s/step - loss: 0.0050 - accuracy: 1.0000\n",
      "Epoch 14/40\n",
      "4/4 [==============================] - 5s 1s/step - loss: 0.0035 - accuracy: 1.0000\n",
      "Epoch 15/40\n",
      "4/4 [==============================] - 5s 1s/step - loss: 0.0027 - accuracy: 1.0000\n",
      "Epoch 16/40\n",
      "4/4 [==============================] - 5s 1s/step - loss: 0.0018 - accuracy: 1.0000\n",
      "Epoch 17/40\n",
      "4/4 [==============================] - 5s 1s/step - loss: 0.0012 - accuracy: 1.0000\n",
      "Epoch 18/40\n",
      "4/4 [==============================] - 5s 1s/step - loss: 7.9297e-04 - accuracy: 1.0000\n",
      "Epoch 19/40\n",
      "4/4 [==============================] - 5s 1s/step - loss: 5.6981e-04 - accuracy: 1.0000\n",
      "Epoch 20/40\n",
      "4/4 [==============================] - 5s 1s/step - loss: 4.0744e-04 - accuracy: 1.0000\n",
      "Epoch 21/40\n",
      "4/4 [==============================] - 5s 1s/step - loss: 2.9250e-04 - accuracy: 1.0000\n",
      "Epoch 22/40\n",
      "4/4 [==============================] - 5s 1s/step - loss: 2.2699e-04 - accuracy: 1.0000\n",
      "Epoch 23/40\n",
      "4/4 [==============================] - 5s 1s/step - loss: 1.8389e-04 - accuracy: 1.0000\n",
      "Epoch 24/40\n",
      "4/4 [==============================] - 5s 1s/step - loss: 1.4677e-04 - accuracy: 1.0000\n",
      "Epoch 25/40\n",
      "4/4 [==============================] - 5s 1s/step - loss: 1.2052e-04 - accuracy: 1.0000\n",
      "Epoch 26/40\n",
      "4/4 [==============================] - 5s 1s/step - loss: 1.0218e-04 - accuracy: 1.0000\n",
      "Epoch 27/40\n",
      "4/4 [==============================] - 5s 1s/step - loss: 8.6257e-05 - accuracy: 1.0000\n",
      "Epoch 28/40\n",
      "4/4 [==============================] - 5s 1s/step - loss: 7.7051e-05 - accuracy: 1.0000\n",
      "Epoch 29/40\n",
      "4/4 [==============================] - 5s 1s/step - loss: 6.8081e-05 - accuracy: 1.0000\n",
      "Epoch 30/40\n",
      "4/4 [==============================] - 5s 1s/step - loss: 5.8745e-05 - accuracy: 1.0000\n",
      "Epoch 31/40\n",
      "4/4 [==============================] - 5s 1s/step - loss: 5.2797e-05 - accuracy: 1.0000\n",
      "Epoch 32/40\n",
      "4/4 [==============================] - 5s 1s/step - loss: 4.7378e-05 - accuracy: 1.0000\n",
      "Epoch 33/40\n",
      "4/4 [==============================] - 5s 1s/step - loss: 4.2430e-05 - accuracy: 1.0000\n",
      "Epoch 34/40\n",
      "4/4 [==============================] - 6s 1s/step - loss: 3.8077e-05 - accuracy: 1.0000\n",
      "Epoch 35/40\n",
      "4/4 [==============================] - 5s 1s/step - loss: 3.5473e-05 - accuracy: 1.0000\n",
      "Epoch 36/40\n",
      "4/4 [==============================] - 5s 1s/step - loss: 3.2622e-05 - accuracy: 1.0000\n",
      "Epoch 37/40\n",
      "4/4 [==============================] - 5s 1s/step - loss: 3.0180e-05 - accuracy: 1.0000\n",
      "Epoch 38/40\n",
      "4/4 [==============================] - 5s 1s/step - loss: 2.8366e-05 - accuracy: 1.0000\n",
      "Epoch 39/40\n",
      "4/4 [==============================] - 5s 1s/step - loss: 2.6511e-05 - accuracy: 1.0000\n",
      "Epoch 40/40\n",
      "4/4 [==============================] - 5s 1s/step - loss: 2.5105e-05 - accuracy: 1.0000\n",
      "CPU times: total: 10min 36s\n",
      "Wall time: 3min 27s\n"
     ]
    },
    {
     "data": {
      "text/plain": [
       "<keras.callbacks.History at 0x1f328c87fa0>"
      ]
     },
     "execution_count": 7,
     "metadata": {},
     "output_type": "execute_result"
    }
   ],
   "source": [
    "%time classifier.fit(traindl, epochs=40,batch_size=32)"
   ]
  },
  {
   "cell_type": "code",
   "execution_count": null,
   "id": "0714b45d",
   "metadata": {},
   "outputs": [],
   "source": [
    "%time\n",
    "classifier.evaluate(validdl,validdl.class_names, verbose = 0)\n",
    "for i in range(0,len(model.metrics_names)):\n",
    "    print(str(model.metrics_names[i])+\" = \"+str(metrics[i]))"
   ]
  },
  {
   "cell_type": "code",
   "execution_count": 8,
   "id": "a4b20f7b",
   "metadata": {},
   "outputs": [],
   "source": [
    "classifier.save('classifier.h5')"
   ]
  },
  {
   "cell_type": "code",
   "execution_count": 11,
   "id": "7534c7e2",
   "metadata": {},
   "outputs": [],
   "source": [
    "classifier1 = Sequential()\n",
    "classifier1.add(Conv2D(32,(3,3),input_shape=(256,256,3), activation='sigmoid'))\n",
    "classifier1.add(MaxPool2D())\n",
    "classifier1.add(Conv2D(32,(3,3), activation='sigmoid'))\n",
    "classifier1.add(MaxPool2D())\n",
    "classifier1.add(Flatten())\n",
    "classifier1.add(Dense(512,activation='sigmoid'))\n",
    "classifier1.add(Dense(1,activation='relu'))\n",
    "classifier1.compile(optimizer='sgd',loss='binary_crossentropy',metrics='accuracy')"
   ]
  },
  {
   "cell_type": "code",
   "execution_count": 13,
   "id": "552b0a7a",
   "metadata": {
    "scrolled": true
   },
   "outputs": [
    {
     "name": "stdout",
     "output_type": "stream",
     "text": [
      "Epoch 1/40\n",
      "4/4 [==============================] - 6s 1s/step - loss: 5.8925 - accuracy: 0.4762\n",
      "Epoch 2/40\n",
      "4/4 [==============================] - 5s 1s/step - loss: 7.9877 - accuracy: 0.4762\n",
      "Epoch 3/40\n",
      "4/4 [==============================] - 5s 1s/step - loss: 7.9877 - accuracy: 0.4762\n",
      "Epoch 4/40\n",
      "4/4 [==============================] - 5s 1s/step - loss: 7.9877 - accuracy: 0.4762\n",
      "Epoch 5/40\n",
      "4/4 [==============================] - 5s 1s/step - loss: 7.9877 - accuracy: 0.4762\n",
      "Epoch 6/40\n",
      "4/4 [==============================] - 5s 1s/step - loss: 7.9877 - accuracy: 0.4762\n",
      "Epoch 7/40\n",
      "4/4 [==============================] - 5s 1s/step - loss: 7.9877 - accuracy: 0.4762\n",
      "Epoch 8/40\n",
      "4/4 [==============================] - 5s 1s/step - loss: 7.9877 - accuracy: 0.4762\n",
      "Epoch 9/40\n",
      "4/4 [==============================] - 5s 1s/step - loss: 7.9877 - accuracy: 0.4762\n",
      "Epoch 10/40\n",
      "4/4 [==============================] - 5s 1s/step - loss: 7.9877 - accuracy: 0.4762\n",
      "Epoch 11/40\n",
      "4/4 [==============================] - 5s 1s/step - loss: 7.9877 - accuracy: 0.4762\n",
      "Epoch 12/40\n",
      "4/4 [==============================] - 5s 1s/step - loss: 7.9877 - accuracy: 0.4762\n",
      "Epoch 13/40\n",
      "4/4 [==============================] - 5s 1s/step - loss: 7.9877 - accuracy: 0.4762\n",
      "Epoch 14/40\n",
      "4/4 [==============================] - 5s 1s/step - loss: 7.9877 - accuracy: 0.4762\n",
      "Epoch 15/40\n",
      "4/4 [==============================] - 5s 1s/step - loss: 7.9877 - accuracy: 0.4762\n",
      "Epoch 16/40\n",
      "4/4 [==============================] - 5s 1s/step - loss: 7.9877 - accuracy: 0.4762\n",
      "Epoch 17/40\n",
      "4/4 [==============================] - 5s 1s/step - loss: 7.9877 - accuracy: 0.4762\n",
      "Epoch 18/40\n",
      "4/4 [==============================] - 5s 1s/step - loss: 7.9877 - accuracy: 0.4762\n",
      "Epoch 19/40\n",
      "4/4 [==============================] - 5s 1s/step - loss: 7.9877 - accuracy: 0.4762\n",
      "Epoch 20/40\n",
      "4/4 [==============================] - 5s 1s/step - loss: 7.9877 - accuracy: 0.4762\n",
      "Epoch 21/40\n",
      "4/4 [==============================] - 5s 1s/step - loss: 7.9877 - accuracy: 0.4762\n",
      "Epoch 22/40\n",
      "4/4 [==============================] - 5s 1s/step - loss: 7.9877 - accuracy: 0.4762\n",
      "Epoch 23/40\n",
      "4/4 [==============================] - 5s 1s/step - loss: 7.9877 - accuracy: 0.4762\n",
      "Epoch 24/40\n",
      "4/4 [==============================] - 5s 1s/step - loss: 7.9877 - accuracy: 0.4762\n",
      "Epoch 25/40\n",
      "4/4 [==============================] - 5s 1s/step - loss: 7.9877 - accuracy: 0.4762\n",
      "Epoch 26/40\n",
      "4/4 [==============================] - 5s 1s/step - loss: 7.9877 - accuracy: 0.4762\n",
      "Epoch 27/40\n",
      "4/4 [==============================] - 5s 1s/step - loss: 7.9877 - accuracy: 0.4762\n",
      "Epoch 28/40\n",
      "4/4 [==============================] - 5s 1s/step - loss: 7.9877 - accuracy: 0.4762\n",
      "Epoch 29/40\n",
      "4/4 [==============================] - 5s 1s/step - loss: 7.9877 - accuracy: 0.4762\n",
      "Epoch 30/40\n",
      "4/4 [==============================] - 5s 1s/step - loss: 7.9877 - accuracy: 0.4762\n",
      "Epoch 31/40\n",
      "4/4 [==============================] - 5s 1s/step - loss: 7.9877 - accuracy: 0.4762\n",
      "Epoch 32/40\n",
      "4/4 [==============================] - 5s 1s/step - loss: 7.9877 - accuracy: 0.4762\n",
      "Epoch 33/40\n",
      "4/4 [==============================] - 5s 1s/step - loss: 7.9877 - accuracy: 0.4762\n",
      "Epoch 34/40\n",
      "4/4 [==============================] - 5s 1s/step - loss: 7.9877 - accuracy: 0.4762\n",
      "Epoch 35/40\n",
      "4/4 [==============================] - 5s 1s/step - loss: 7.9877 - accuracy: 0.4762\n",
      "Epoch 36/40\n",
      "4/4 [==============================] - 5s 1s/step - loss: 7.9877 - accuracy: 0.4762\n",
      "Epoch 37/40\n",
      "4/4 [==============================] - 5s 1s/step - loss: 7.9877 - accuracy: 0.4762\n",
      "Epoch 38/40\n",
      "4/4 [==============================] - 5s 1s/step - loss: 7.9877 - accuracy: 0.4762\n",
      "Epoch 39/40\n",
      "4/4 [==============================] - 5s 1s/step - loss: 7.9877 - accuracy: 0.4762\n",
      "Epoch 40/40\n",
      "4/4 [==============================] - 5s 1s/step - loss: 7.9877 - accuracy: 0.4762\n",
      "CPU times: total: 10min 42s\n",
      "Wall time: 3min 25s\n"
     ]
    },
    {
     "data": {
      "text/plain": [
       "<keras.callbacks.History at 0x1f36c406e90>"
      ]
     },
     "execution_count": 13,
     "metadata": {},
     "output_type": "execute_result"
    }
   ],
   "source": [
    "%time classifier1.fit(traindl, epochs=40,batch_size=32)"
   ]
  },
  {
   "cell_type": "code",
   "execution_count": 19,
   "id": "88151ace",
   "metadata": {},
   "outputs": [],
   "source": [
    "classifier1.save('classifier1.h5')"
   ]
  },
  {
   "cell_type": "code",
   "execution_count": 14,
   "id": "f2d09859",
   "metadata": {},
   "outputs": [],
   "source": [
    "classifier2 = Sequential()\n",
    "classifier2.add(Conv2D(32,(3,3),input_shape=(256,256,3), activation='relu'))\n",
    "classifier2.add(MaxPool2D())\n",
    "classifier2.add(Conv2D(32,(3,3), activation='relu'))\n",
    "classifier2.add(MaxPool2D())\n",
    "classifier2.add(Flatten())\n",
    "classifier2.add(Dense(512,activation='relu'))\n",
    "classifier2.add(Dense(1,activation='sigmoid'))\n",
    "classifier2.compile(optimizer='sgd',loss='binary_crossentropy',metrics='accuracy')"
   ]
  },
  {
   "cell_type": "code",
   "execution_count": 16,
   "id": "3352ec4d",
   "metadata": {},
   "outputs": [
    {
     "name": "stdout",
     "output_type": "stream",
     "text": [
      "Epoch 1/40\n",
      "4/4 [==============================] - 6s 1s/step - loss: 2629085134128676864.0000 - accuracy: 0.5048\n",
      "Epoch 2/40\n",
      "4/4 [==============================] - 5s 1s/step - loss: nan - accuracy: 0.4286                              \n",
      "Epoch 3/40\n",
      "4/4 [==============================] - 5s 1s/step - loss: 0.6930 - accuracy: 0.5238\n",
      "Epoch 4/40\n",
      "4/4 [==============================] - 5s 1s/step - loss: 0.6929 - accuracy: 0.5238\n",
      "Epoch 5/40\n",
      "4/4 [==============================] - 4s 985ms/step - loss: 0.6929 - accuracy: 0.5238\n",
      "Epoch 6/40\n",
      "4/4 [==============================] - 4s 1s/step - loss: 0.6929 - accuracy: 0.5238\n",
      "Epoch 7/40\n",
      "4/4 [==============================] - 5s 1s/step - loss: 0.6929 - accuracy: 0.5238\n",
      "Epoch 8/40\n",
      "4/4 [==============================] - 4s 986ms/step - loss: 0.6929 - accuracy: 0.5238\n",
      "Epoch 9/40\n",
      "4/4 [==============================] - 4s 1s/step - loss: 0.6929 - accuracy: 0.5238\n",
      "Epoch 10/40\n",
      "4/4 [==============================] - 4s 997ms/step - loss: 0.6929 - accuracy: 0.5238\n",
      "Epoch 11/40\n",
      "4/4 [==============================] - 4s 998ms/step - loss: 0.6928 - accuracy: 0.5238\n",
      "Epoch 12/40\n",
      "4/4 [==============================] - 4s 991ms/step - loss: 0.6928 - accuracy: 0.5238\n",
      "Epoch 13/40\n",
      "4/4 [==============================] - 4s 1s/step - loss: 0.6928 - accuracy: 0.5238\n",
      "Epoch 14/40\n",
      "4/4 [==============================] - 4s 997ms/step - loss: 0.6928 - accuracy: 0.5238\n",
      "Epoch 15/40\n",
      "4/4 [==============================] - 4s 1s/step - loss: 0.6928 - accuracy: 0.5238\n",
      "Epoch 16/40\n",
      "4/4 [==============================] - 4s 1s/step - loss: 0.6927 - accuracy: 0.5238\n",
      "Epoch 17/40\n",
      "4/4 [==============================] - 4s 996ms/step - loss: 0.6927 - accuracy: 0.5238\n",
      "Epoch 18/40\n",
      "4/4 [==============================] - 4s 995ms/step - loss: 0.6926 - accuracy: 0.5238\n",
      "Epoch 19/40\n",
      "4/4 [==============================] - 4s 995ms/step - loss: 0.6926 - accuracy: 0.5238\n",
      "Epoch 20/40\n",
      "4/4 [==============================] - 4s 995ms/step - loss: 0.6926 - accuracy: 0.5238\n",
      "Epoch 21/40\n",
      "4/4 [==============================] - 4s 990ms/step - loss: 0.6926 - accuracy: 0.5238\n",
      "Epoch 22/40\n",
      "4/4 [==============================] - 4s 999ms/step - loss: 0.6926 - accuracy: 0.5238\n",
      "Epoch 23/40\n",
      "4/4 [==============================] - 4s 980ms/step - loss: 0.6926 - accuracy: 0.5238\n",
      "Epoch 24/40\n",
      "4/4 [==============================] - 4s 974ms/step - loss: 0.6926 - accuracy: 0.5238\n",
      "Epoch 25/40\n",
      "4/4 [==============================] - 4s 998ms/step - loss: 0.6926 - accuracy: 0.5238\n",
      "Epoch 26/40\n",
      "4/4 [==============================] - 4s 972ms/step - loss: 0.6926 - accuracy: 0.5238\n",
      "Epoch 27/40\n",
      "4/4 [==============================] - 4s 994ms/step - loss: 0.6925 - accuracy: 0.5238\n",
      "Epoch 28/40\n",
      "4/4 [==============================] - 4s 1s/step - loss: 0.6925 - accuracy: 0.5238\n",
      "Epoch 29/40\n",
      "4/4 [==============================] - 4s 988ms/step - loss: 0.6925 - accuracy: 0.5238\n",
      "Epoch 30/40\n",
      "4/4 [==============================] - 5s 1s/step - loss: 0.6925 - accuracy: 0.5238\n",
      "Epoch 31/40\n",
      "4/4 [==============================] - 4s 783ms/step - loss: 0.6925 - accuracy: 0.5238\n",
      "Epoch 32/40\n",
      "4/4 [==============================] - 3s 736ms/step - loss: 0.6925 - accuracy: 0.5238\n",
      "Epoch 33/40\n",
      "4/4 [==============================] - 4s 819ms/step - loss: 0.6925 - accuracy: 0.5238\n",
      "Epoch 34/40\n",
      "4/4 [==============================] - 3s 746ms/step - loss: 0.6924 - accuracy: 0.5238\n",
      "Epoch 35/40\n",
      "4/4 [==============================] - 3s 732ms/step - loss: 0.6925 - accuracy: 0.5238\n",
      "Epoch 36/40\n",
      "4/4 [==============================] - 3s 800ms/step - loss: 0.6925 - accuracy: 0.5238\n",
      "Epoch 37/40\n",
      "4/4 [==============================] - 4s 800ms/step - loss: 0.6924 - accuracy: 0.5238\n",
      "Epoch 38/40\n",
      "4/4 [==============================] - 4s 859ms/step - loss: 0.6924 - accuracy: 0.5238\n",
      "Epoch 39/40\n",
      "4/4 [==============================] - 4s 821ms/step - loss: 0.6925 - accuracy: 0.5238\n",
      "Epoch 40/40\n",
      "4/4 [==============================] - 3s 767ms/step - loss: 0.6924 - accuracy: 0.5238\n",
      "CPU times: total: 9min 12s\n",
      "Wall time: 2min 50s\n"
     ]
    },
    {
     "data": {
      "text/plain": [
       "<keras.callbacks.History at 0x1f36c4072b0>"
      ]
     },
     "execution_count": 16,
     "metadata": {},
     "output_type": "execute_result"
    }
   ],
   "source": [
    "%time classifier2.fit(traindl, epochs=40,batch_size=32)"
   ]
  },
  {
   "cell_type": "code",
   "execution_count": 18,
   "id": "78bb3203",
   "metadata": {},
   "outputs": [],
   "source": [
    "classifier2.save('classifier2.h5')"
   ]
  },
  {
   "cell_type": "code",
   "execution_count": null,
   "id": "a744254a",
   "metadata": {},
   "outputs": [],
   "source": []
  }
 ],
 "metadata": {
  "kernelspec": {
   "display_name": "Python 3 (ipykernel)",
   "language": "python",
   "name": "python3"
  },
  "language_info": {
   "codemirror_mode": {
    "name": "ipython",
    "version": 3
   },
   "file_extension": ".py",
   "mimetype": "text/x-python",
   "name": "python",
   "nbconvert_exporter": "python",
   "pygments_lexer": "ipython3",
   "version": "3.10.9"
  }
 },
 "nbformat": 4,
 "nbformat_minor": 5
}
